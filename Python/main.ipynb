{
 "cells": [
  {
   "cell_type": "code",
   "execution_count": 1,
   "metadata": {},
   "outputs": [
    {
     "name": "stdout",
     "output_type": "stream",
     "text": [
      "2.7.0\n",
      "[PhysicalDevice(name='/physical_device:GPU:0', device_type='GPU')]\n",
      "Model: \"model\"\n",
      "__________________________________________________________________________________________________\n",
      " Layer (type)                   Output Shape         Param #     Connected to                     \n",
      "==================================================================================================\n",
      " img_input (InputLayer)         [(None, 5, 81, 144)  0           []                               \n",
      "                                ]                                                                 \n",
      "                                                                                                  \n",
      " conv2d_1 (Conv2D)              (None, 16, 21, 36)   3936        ['img_input[0][0]']              \n",
      "                                                                                                  \n",
      " conv2d_2 (Conv2D)              (None, 32, 11, 18)   8224        ['conv2d_1[0][0]']               \n",
      "                                                                                                  \n",
      " data_input (InputLayer)        [(None, 5, 6)]       0           []                               \n",
      "                                                                                                  \n",
      " conv_flatten (Flatten)         (None, 6336)         0           ['conv2d_2[0][0]']               \n",
      "                                                                                                  \n",
      " data_flatten (Flatten)         (None, 30)           0           ['data_input[0][0]']             \n",
      "                                                                                                  \n",
      " concatenate (Concatenate)      (None, 6366)         0           ['conv_flatten[0][0]',           \n",
      "                                                                  'data_flatten[0][0]']           \n",
      "                                                                                                  \n",
      " dense_1 (Dense)                (None, 32)           203744      ['concatenate[0][0]']            \n",
      "                                                                                                  \n",
      " dense_2 (Dense)                (None, 32)           1056        ['dense_1[0][0]']                \n",
      "                                                                                                  \n",
      " actor_means (Dense)            (None, 4)            132         ['dense_2[0][0]']                \n",
      "                                                                                                  \n",
      " actor_stdevs (Dense)           (None, 4)            132         ['dense_2[0][0]']                \n",
      "                                                                                                  \n",
      " critic_value (Dense)           (None, 1)            33          ['dense_2[0][0]']                \n",
      "                                                                                                  \n",
      "==================================================================================================\n",
      "Total params: 217,257\n",
      "Trainable params: 217,257\n",
      "Non-trainable params: 0\n",
      "__________________________________________________________________________________________________\n",
      "\n",
      "SAVING IN 2 SECONDS\n"
     ]
    },
    {
     "name": "stderr",
     "output_type": "stream",
     "text": [
      "WARNING:absl:<keras.saving.saved_model.load.Dense object at 0x00000292824588E0> has the same name 'Dense' as a built-in Keras object. Consider renaming <class 'keras.saving.saved_model.load.Dense'> to avoid naming conflicts when loading with `tf.keras.models.load_model`. If renaming is not possible, pass the object in the `custom_objects` parameter of the load function.\n"
     ]
    },
    {
     "name": "stdout",
     "output_type": "stream",
     "text": [
      "BACKING UP IN 2 SECONDS\n"
     ]
    },
    {
     "name": "stderr",
     "output_type": "stream",
     "text": [
      "WARNING:absl:<keras.saving.saved_model.load.Dense object at 0x00000292824588E0> has the same name 'Dense' as a built-in Keras object. Consider renaming <class 'keras.saving.saved_model.load.Dense'> to avoid naming conflicts when loading with `tf.keras.models.load_model`. If renaming is not possible, pass the object in the `custom_objects` parameter of the load function.\n"
     ]
    },
    {
     "name": "stdout",
     "output_type": "stream",
     "text": [
      "return v. episode\n"
     ]
    },
    {
     "data": {
      "image/png": "[encoded data removed]",
      "text/plain": [
       "<Figure size 432x288 with 1 Axes>"
      ]
     },
     "metadata": {
      "needs_background": "light"
     },
     "output_type": "display_data"
    },
    {
     "name": "stdout",
     "output_type": "stream",
     "text": [
      "\n",
      "td error v. frame\n"
     ]
    },
    {
     "data": {
      "image/png": "[encoded data removed]",
      "text/plain": [
       "<Figure size 432x288 with 1 Axes>"
      ]
     },
     "metadata": {
      "needs_background": "light"
     },
     "output_type": "display_data"
    },
    {
     "name": "stdout",
     "output_type": "stream",
     "text": [
      "\n",
      "performance (J of theta) v. frame\n"
     ]
    },
    {
     "data": {
      "image/png": "[encoded data removed]",
      "text/plain": [
       "<Figure size 432x288 with 1 Axes>"
      ]
     },
     "metadata": {
      "needs_background": "light"
     },
     "output_type": "display_data"
    },
    {
     "name": "stdout",
     "output_type": "stream",
     "text": [
      "\n",
      "\n",
      "\n"
     ]
    },
    {
     "ename": "ValueError",
     "evalue": "cannot reshape array of size 0 into shape (81,144)",
     "output_type": "error",
     "traceback": [
      "\u001b[1;31m---------------------------------------------------------------------------\u001b[0m",
      "\u001b[1;31mValueError\u001b[0m                                Traceback (most recent call last)",
      "\u001b[1;32m<ipython-input-1-7915a87590fc>\u001b[0m in \u001b[0;36m<module>\u001b[1;34m\u001b[0m\n\u001b[0;32m    170\u001b[0m             Receive update from game'''\n\u001b[0;32m    171\u001b[0m             \u001b[1;31m# Receive screen\u001b[0m\u001b[1;33m\u001b[0m\u001b[1;33m\u001b[0m\u001b[1;33m\u001b[0m\u001b[0m\n\u001b[1;32m--> 172\u001b[1;33m             \u001b[0mcam_1\u001b[0m \u001b[1;33m=\u001b[0m \u001b[0mnp\u001b[0m\u001b[1;33m.\u001b[0m\u001b[0mreshape\u001b[0m\u001b[1;33m(\u001b[0m\u001b[0mnp\u001b[0m\u001b[1;33m.\u001b[0m\u001b[0marray\u001b[0m\u001b[1;33m(\u001b[0m\u001b[0mrecvBytes\u001b[0m\u001b[1;33m(\u001b[0m\u001b[0mclient\u001b[0m\u001b[1;33m,\u001b[0m \u001b[0mcfg\u001b[0m\u001b[1;33m.\u001b[0m\u001b[0mwidth\u001b[0m \u001b[1;33m*\u001b[0m \u001b[0mcfg\u001b[0m\u001b[1;33m.\u001b[0m\u001b[0mheight\u001b[0m\u001b[1;33m)\u001b[0m\u001b[1;33m,\u001b[0m \u001b[0mdtype\u001b[0m\u001b[1;33m=\u001b[0m\u001b[0mcfg\u001b[0m\u001b[1;33m.\u001b[0m\u001b[0mcam_memtype\u001b[0m\u001b[1;33m)\u001b[0m\u001b[1;33m,\u001b[0m \u001b[1;33m(\u001b[0m\u001b[0mcfg\u001b[0m\u001b[1;33m.\u001b[0m\u001b[0mheight\u001b[0m\u001b[1;33m,\u001b[0m \u001b[0mcfg\u001b[0m\u001b[1;33m.\u001b[0m\u001b[0mwidth\u001b[0m\u001b[1;33m)\u001b[0m\u001b[1;33m)\u001b[0m\u001b[1;33m\u001b[0m\u001b[1;33m\u001b[0m\u001b[0m\n\u001b[0m\u001b[0;32m    173\u001b[0m             \u001b[1;31m# print(\"Received CAM1\")\u001b[0m\u001b[1;33m\u001b[0m\u001b[1;33m\u001b[0m\u001b[1;33m\u001b[0m\u001b[0m\n\u001b[0;32m    174\u001b[0m             \u001b[0mcam_2\u001b[0m \u001b[1;33m=\u001b[0m \u001b[0mnp\u001b[0m\u001b[1;33m.\u001b[0m\u001b[0mreshape\u001b[0m\u001b[1;33m(\u001b[0m\u001b[0mnp\u001b[0m\u001b[1;33m.\u001b[0m\u001b[0marray\u001b[0m\u001b[1;33m(\u001b[0m\u001b[0mrecvBytes\u001b[0m\u001b[1;33m(\u001b[0m\u001b[0mclient\u001b[0m\u001b[1;33m,\u001b[0m \u001b[0mcfg\u001b[0m\u001b[1;33m.\u001b[0m\u001b[0mwidth\u001b[0m \u001b[1;33m*\u001b[0m \u001b[0mcfg\u001b[0m\u001b[1;33m.\u001b[0m\u001b[0mheight\u001b[0m\u001b[1;33m)\u001b[0m\u001b[1;33m,\u001b[0m \u001b[0mdtype\u001b[0m\u001b[1;33m=\u001b[0m\u001b[0mcfg\u001b[0m\u001b[1;33m.\u001b[0m\u001b[0mcam_memtype\u001b[0m\u001b[1;33m)\u001b[0m\u001b[1;33m,\u001b[0m \u001b[1;33m(\u001b[0m\u001b[0mcfg\u001b[0m\u001b[1;33m.\u001b[0m\u001b[0mheight\u001b[0m\u001b[1;33m,\u001b[0m \u001b[0mcfg\u001b[0m\u001b[1;33m.\u001b[0m\u001b[0mwidth\u001b[0m\u001b[1;33m)\u001b[0m\u001b[1;33m)\u001b[0m\u001b[1;33m\u001b[0m\u001b[1;33m\u001b[0m\u001b[0m\n",
      "\u001b[1;32mc:\\Users\\jason\\anaconda3\\envs\\tf\\lib\\site-packages\\numpy\\core\\overrides.py\u001b[0m in \u001b[0;36mreshape\u001b[1;34m(*args, **kwargs)\u001b[0m\n",
      "\u001b[1;32mc:\\Users\\jason\\anaconda3\\envs\\tf\\lib\\site-packages\\numpy\\core\\fromnumeric.py\u001b[0m in \u001b[0;36mreshape\u001b[1;34m(a, newshape, order)\u001b[0m\n\u001b[0;32m    296\u001b[0m            [5, 6]])\n\u001b[0;32m    297\u001b[0m     \"\"\"\n\u001b[1;32m--> 298\u001b[1;33m     \u001b[1;32mreturn\u001b[0m \u001b[0m_wrapfunc\u001b[0m\u001b[1;33m(\u001b[0m\u001b[0ma\u001b[0m\u001b[1;33m,\u001b[0m \u001b[1;34m'reshape'\u001b[0m\u001b[1;33m,\u001b[0m \u001b[0mnewshape\u001b[0m\u001b[1;33m,\u001b[0m \u001b[0morder\u001b[0m\u001b[1;33m=\u001b[0m\u001b[0morder\u001b[0m\u001b[1;33m)\u001b[0m\u001b[1;33m\u001b[0m\u001b[1;33m\u001b[0m\u001b[0m\n\u001b[0m\u001b[0;32m    299\u001b[0m \u001b[1;33m\u001b[0m\u001b[0m\n\u001b[0;32m    300\u001b[0m \u001b[1;33m\u001b[0m\u001b[0m\n",
      "\u001b[1;32mc:\\Users\\jason\\anaconda3\\envs\\tf\\lib\\site-packages\\numpy\\core\\fromnumeric.py\u001b[0m in \u001b[0;36m_wrapfunc\u001b[1;34m(obj, method, *args, **kwds)\u001b[0m\n\u001b[0;32m     55\u001b[0m \u001b[1;33m\u001b[0m\u001b[0m\n\u001b[0;32m     56\u001b[0m     \u001b[1;32mtry\u001b[0m\u001b[1;33m:\u001b[0m\u001b[1;33m\u001b[0m\u001b[1;33m\u001b[0m\u001b[0m\n\u001b[1;32m---> 57\u001b[1;33m         \u001b[1;32mreturn\u001b[0m \u001b[0mbound\u001b[0m\u001b[1;33m(\u001b[0m\u001b[1;33m*\u001b[0m\u001b[0margs\u001b[0m\u001b[1;33m,\u001b[0m \u001b[1;33m**\u001b[0m\u001b[0mkwds\u001b[0m\u001b[1;33m)\u001b[0m\u001b[1;33m\u001b[0m\u001b[1;33m\u001b[0m\u001b[0m\n\u001b[0m\u001b[0;32m     58\u001b[0m     \u001b[1;32mexcept\u001b[0m \u001b[0mTypeError\u001b[0m\u001b[1;33m:\u001b[0m\u001b[1;33m\u001b[0m\u001b[1;33m\u001b[0m\u001b[0m\n\u001b[0;32m     59\u001b[0m         \u001b[1;31m# A TypeError occurs if the object does have such a method in its\u001b[0m\u001b[1;33m\u001b[0m\u001b[1;33m\u001b[0m\u001b[1;33m\u001b[0m\u001b[0m\n",
      "\u001b[1;31mValueError\u001b[0m: cannot reshape array of size 0 into shape (81,144)"
     ]
    }
   ],
   "source": [
    "# Import packages.\n",
    "import tensorflow as tf             # Tensorflow.\n",
    "import numpy as np                  # I chose NumPy instead of Pandas because it uses less RAM\n",
    "import time, socket, datetime\n",
    "import matplotlib.pyplot as plt\n",
    "\n",
    "import cv2\n",
    "\n",
    "from Scripts import config as cfg\n",
    "from Scripts import Agent_CNN as agent\n",
    "\n",
    "print(tf.__version__)\n",
    "# This code allows for the GPU to be utilized properly.\n",
    "tf.get_logger().setLevel('ERROR')\n",
    "physical_devices = tf.config.list_physical_devices(\"GPU\")\n",
    "try:\n",
    "    tf.config.experimental.set_memory_growth(physical_devices[0], True)\n",
    "except:\n",
    "    pass\n",
    "\n",
    "print(physical_devices)\n",
    "\n",
    "def send(client, msg):\n",
    "    '''Send data to game, including confirmation response'''\n",
    "\n",
    "    client.send(str(msg).encode())\n",
    "    # print(\"msg sent\")\n",
    "    client.recv(1024)\n",
    "    # print(\"msg acknowledged\")\n",
    "\n",
    "def recv(client):\n",
    "    '''Receive data to game, including confirmation response'''\n",
    "\n",
    "    data = client.recv(1024).decode()\n",
    "    # print(\"msg received\")\n",
    "    client.send(\"acknowledge\".encode())\n",
    "    # print(\"msg acknowledged\")\n",
    "    return data\n",
    "\n",
    "def recvBytes(client, bufferSize):\n",
    "    data = client.recv(bufferSize)\n",
    "    client.send(\"acknowledge\".encode())\n",
    "    return list(data)\n",
    "\n",
    "def invData(data):\n",
    "    '''Invert data to convert from perspective of plane 1 to plane 2.\n",
    "       Does NOT take np arrays'''\n",
    "    length = int(len(data) / 2 )\n",
    "    return data[length:] + data[:length]\n",
    "\n",
    "def plot(data, x, y):\n",
    "    '''Plot statistics.'''\n",
    "    \n",
    "    print(y + \" v. \" + x)\n",
    "\n",
    "    indices = np.arange(len(data))\n",
    "    plt.scatter(indices, data)\n",
    "\n",
    "    a, b = np.polyfit(indices, data, 1)\n",
    "    plt.plot(indices, a*indices+b, color=\"red\", linewidth=\"2\")\n",
    "\n",
    "    plt.xlabel(x)\n",
    "    plt.ylabel(y)\n",
    "    plt.show()\n",
    "    print()\n",
    "\n",
    "# mu = 0.5\n",
    "# sigma = 0.16\n",
    "\n",
    "# dist = np.random.default_rng().standard_normal(size=10000) * sigma + mu\n",
    "# count, bins, ignored = plt.hist(dist, 30, density=True)\n",
    "# plt.plot(bins, 1/(sigma * np.sqrt(2 * np.pi)) *\n",
    "#                np.exp( - (bins - mu)**2 / (2 * sigma**2) ),\n",
    "#          linewidth=2, color='r')\n",
    "# plt.show()\n",
    "\n",
    "# ==================== Training ==================== #\n",
    "\n",
    "# Time in FRAMES\n",
    "time_since_save = 0\n",
    "agent = agent.agent()\n",
    "\n",
    "while True:\n",
    "    # Do stuff per episode\n",
    "    # The server/client connection is established at the start of EVERY episode\n",
    "    with socket.socket(socket.AF_INET, socket.SOCK_STREAM) as server:\n",
    "        # Bind to port\n",
    "        server.bind((cfg.HOST, cfg.PORT))\n",
    "\n",
    "        # Connect to game\n",
    "        server.listen(1)\n",
    "        client, address = server.accept()\n",
    "\n",
    "        '''B'''\n",
    "        # Receive the first state from game\n",
    "\n",
    "        # Receive screen\n",
    "        cam_1 = np.reshape(np.array(recvBytes(client, cfg.width * cfg.height), dtype=cfg.cam_memtype), (cfg.height, cfg.width))\n",
    "        # print(\"Received CAM1\")\n",
    "        cam_2 = np.reshape(np.array(recvBytes(client, cfg.width * cfg.height), dtype=cfg.cam_memtype), (cfg.height, cfg.width))\n",
    "        # print(\"Received CAM2\")\n",
    "\n",
    "        num_messages = int(recv(client))\n",
    "        # print(\"Received DATA1 len\")\n",
    "        data_1 = np.ndarray(num_messages, dtype=np.float32)\n",
    "        for x in range(num_messages):\n",
    "            data_1[x] = recv(client)\n",
    "        # print(\"Received all of DATA1\")\n",
    "        num_messages = int(recv(client))\n",
    "        # print(\"Received DATA2 len\")\n",
    "        data_2 = np.ndarray(num_messages, dtype=np.float32)\n",
    "        for x in range(num_messages):\n",
    "            data_2[x] = recv(client)\n",
    "        # print(\"Received all of DATA2\")\n",
    "\n",
    "        # pop death data\n",
    "        data_1 = data_1[:-1]\n",
    "        data_2 = data_2[:-1]\n",
    "\n",
    "        # plt.imshow(cam_1, cmap=\"gray\", vmin=0, vmax=255)\n",
    "        # plt.show()\n",
    "\n",
    "        # Initialize agents with the first state from the game\n",
    "        agent.init_phi((cam_1, data_1), (cam_2, data_2))\n",
    "\n",
    "\n",
    "        # data collection\n",
    "        R = 0\n",
    "        it = 0\n",
    "\n",
    "\n",
    "        # Episode loop\n",
    "        while True:\n",
    "            '''A\n",
    "            Send predictions to game'''\n",
    "            # Get prediction input values from model\n",
    "            actions1, means, value1 = agent.get_actions(1)\n",
    "            actions2, _, value2 = agent.get_actions(2)\n",
    "            num_messages = cfg.num_actions\n",
    "\n",
    "            # get pitch mean value for first state\n",
    "            if it == 0:\n",
    "                it = 1\n",
    "                agent.stats[\"pitch_mean\"].append(means[0])\n",
    "                # print(means[0])\n",
    "\n",
    "            # Clip predictions from -1 to +1 for game input\n",
    "            actions1 = np.clip(actions1, -1, 1)\n",
    "            actions2 = np.clip(actions2, -1, 1)\n",
    "            \n",
    "            actions1 = np.concatenate((actions1, value1))\n",
    "            actions2 = np.concatenate((actions2, value2))\n",
    "            num_messages = 5\n",
    "\n",
    "            # Send predictions of plane 1 to game\n",
    "            send(client, num_messages)\n",
    "            # print(f\"Sent ACTION1 len ({num_messages}), sending ACTION1:\")\n",
    "            for x in range(num_messages):\n",
    "                send(client, actions1[x])\n",
    "                # print(actions1[x])\n",
    "            # Send predictions of plane 2 to game\n",
    "            send(client, num_messages)\n",
    "            # print(f\"Sent ACTION2 len ({num_messages}), sending ACTION2:\")\n",
    "            for x in range(num_messages):\n",
    "                send(client, actions2[x])\n",
    "                # print(actions2[x])\n",
    "\n",
    "\n",
    "            '''B\n",
    "            Receive update from game'''\n",
    "            # Receive screen\n",
    "            cam_1 = np.reshape(np.array(recvBytes(client, cfg.width * cfg.height), dtype=cfg.cam_memtype), (cfg.height, cfg.width))\n",
    "            # print(\"Received CAM1\")\n",
    "            cam_2 = np.reshape(np.array(recvBytes(client, cfg.width * cfg.height), dtype=cfg.cam_memtype), (cfg.height, cfg.width))\n",
    "            # print(\"Received CAM2\")\n",
    "            \n",
    "            \n",
    "            # plt.imshow(cam_1, cmap=\"gray\", vmin=0, vmax=255)\n",
    "            # plt.show()\n",
    "\n",
    "            num_messages = int(recv(client))\n",
    "            # print(f\"Received DATA1 len ({num_messages}), receiving DATA1:\")\n",
    "            data_1 = np.ndarray(num_messages, dtype=np.float32)\n",
    "            for x in range(num_messages):\n",
    "                data_1[x] = recv(client)\n",
    "                # print(data_1[x])\n",
    "            num_messages = int(recv(client))\n",
    "            # print(f\"Received DATA2 len ({num_messages}), receiving DATA2:\")\n",
    "            data_2 = np.ndarray(num_messages, dtype=np.float32)\n",
    "            for x in range(num_messages):\n",
    "                data_2[x] = recv(client)\n",
    "                # print(data_2[x])\n",
    "\n",
    "            '''Process data received from game'''\n",
    "\n",
    "            # pop death data\n",
    "            P1_alive = data_1[-1]\n",
    "            P2_alive = data_2[-1]\n",
    "            data_1 = data_1[:-1]\n",
    "            data_2 = data_2[:-1]\n",
    "            P1_nose_angle = data_1[-1]\n",
    "            P2_nose_angle = data_2[-1]\n",
    "\n",
    "            reward_range = cfg.max_reward_angle - cfg.min_reward_angle\n",
    "            if P1_nose_angle < cfg.angle_threshold:\n",
    "                P1_reward = (1 - P1_nose_angle / cfg.angle_threshold) * reward_range + cfg.min_reward_angle\n",
    "            else:\n",
    "                P1_reward = cfg.min_reward_angle\n",
    "            if P2_nose_angle < cfg.angle_threshold:\n",
    "                P2_reward = (1 - P2_nose_angle / cfg.angle_threshold) * reward_range + cfg.min_reward_angle\n",
    "            else:\n",
    "                P2_reward = cfg.min_reward_angle\n",
    "\n",
    "            # Check if either plane is dead via OOB\n",
    "            if P1_alive == 1:\n",
    "                P1_reward = cfg.reward_death\n",
    "            if P2_alive == 1:\n",
    "                P2_reward = cfg.reward_death\n",
    "            # Check if either plane is dead via shooting\n",
    "            if P1_alive == 2:\n",
    "                P1_reward = cfg.reward_death\n",
    "                P2_reward = cfg.reward_kill\n",
    "                print(f\"{datetime.datetime.now()}: Plane 2 killed plane 1\")\n",
    "            if P2_alive == 2:\n",
    "                P2_reward = cfg.reward_death\n",
    "                P1_reward = cfg.reward_kill\n",
    "                print(f\"{datetime.datetime.now()}: Plane 1 killed plane 2\")\n",
    "\n",
    "            '''Do agent stuff'''\n",
    "            agent.reward_transition(1, P1_reward, (cam_1, data_1))\n",
    "            agent.reward_transition(2, P2_reward, (cam_2, data_2))\n",
    "            agent.learn()\n",
    "            agent.train_data[\"frames_played\"] += 1\n",
    "\n",
    "\n",
    "            R += P1_reward\n",
    "\n",
    "\n",
    "            if P1_alive > 0 or P2_alive > 0:\n",
    "\n",
    "                agent.stats[\"return\"].append(R)\n",
    "\n",
    "\n",
    "                # Save model if autosave period is reached\n",
    "                if time_since_save % cfg.autosave_period == 0:\n",
    "                    print()\n",
    "\n",
    "                    print(\"SAVING IN 2 SECONDS\")\n",
    "                    time.sleep(2)\n",
    "                    agent.save_all(cfg.save_path)\n",
    "\n",
    "                    print(\"BACKING UP IN 2 SECONDS\")\n",
    "                    time.sleep(2)\n",
    "                    agent.save_all(cfg.backup_path)\n",
    "\n",
    "                    plot(agent.stats[\"return\"], \"episode\", \"return\")\n",
    "                    plot(agent.stats[\"td_error\"], \"frame\", \"td error\")\n",
    "                    plot(agent.stats[\"performance_measure\"], \"frame\", \"performance (J of theta)\")\n",
    "\n",
    "                    print()\n",
    "                    print()\n",
    "                \n",
    "                send(client, \"time to restart\")\n",
    "                client.shutdown(socket.SHUT_RDWR)\n",
    "                client.close()\n",
    "                time_since_save += 1\n",
    "                break\n"
   ]
  },
  {
   "cell_type": "code",
   "execution_count": 25,
   "metadata": {},
   "outputs": [
    {
     "name": "stdout",
     "output_type": "stream",
     "text": [
      "[[ 0.  1.  4.]\n",
      " [ 0.  4. 10.]\n",
      " [ 0.  7. 16.]]\n",
      "[ 9. 12. 15.]\n",
      "[ 9. 12. 15.]\n"
     ]
    }
   ],
   "source": [
    "import tensorflow as tf\n",
    "import numpy as np\n",
    "\n",
    "with tf.GradientTape(persistent=True) as tape:\n",
    "    x = tf.reshape(tf.range(0., 9.), (3, 3))\n",
    "    w = tf.Variable((0., 1., 2.))\n",
    "    y = x * w\n",
    "    z = tf.reduce_sum(y)\n",
    "    # y = tf.where(tf.math.less(y, 0.001), tf.ones_like(y), y)\n",
    "\n",
    "# print(x.numpy())\n",
    "print(y.numpy())\n",
    "print(tape.gradient(y, w).numpy())\n",
    "print(tape.gradient(z, w).numpy())"
   ]
  },
  {
   "cell_type": "code",
   "execution_count": 3,
   "metadata": {},
   "outputs": [
    {
     "name": "stdout",
     "output_type": "stream",
     "text": [
      "1.4061813659459742e+33\n"
     ]
    }
   ],
   "source": [
    "import math\n",
    "a = (1 * 1 - math.pow(1, 2) / 2) / math.pow((1.8856641 * math.pow(10, -17)), 2)\n",
    "print(a)\n",
    "                                                            "
   ]
  },
  {
   "cell_type": "code",
   "execution_count": 6,
   "metadata": {},
   "outputs": [
    {
     "name": "stdout",
     "output_type": "stream",
     "text": [
      "tf.Tensor([0.73374796 0.505      0.01      ], shape=(3,), dtype=float32)\n"
     ]
    }
   ],
   "source": [
    "from tensorflow.keras import backend as K\n",
    "import tensorflow as tf\n",
    "\n",
    "def offset_sigmoid(x):\n",
    "    return K.sigmoid(x) * 0.99 + 0.01\n",
    "\n",
    "a = tf.Variable((1., 0, -9999999999999999999999999999))\n",
    "\n",
    "print(offset_sigmoid(a))"
   ]
  },
  {
   "cell_type": "code",
   "execution_count": 5,
   "metadata": {},
   "outputs": [
    {
     "name": "stdout",
     "output_type": "stream",
     "text": [
      "[[(0., 0) (0., 0) (0., 0)]\n",
      " [(0., 0) (0., 0) (0., 0)]]\n"
     ]
    }
   ],
   "source": [
    "import numpy as np\n",
    "\n",
    "dtype = np.dtype([(\"a\", np.float32), (\"y\", np.int32)])\n",
    "a = np.zeros((2, 3), dtype=dtype)\n",
    "print(a)"
   ]
  }
 ],
 "metadata": {
  "kernelspec": {
   "display_name": "tf",
   "language": "python",
   "name": "python3"
  },
  "language_info": {
   "codemirror_mode": {
    "name": "ipython",
    "version": 3
   },
   "file_extension": ".py",
   "mimetype": "text/x-python",
   "name": "python",
   "nbconvert_exporter": "python",
   "pygments_lexer": "ipython3",
   "version": "3.8.8"
  },
  "orig_nbformat": 4
 },
 "nbformat": 4,
 "nbformat_minor": 2
}
